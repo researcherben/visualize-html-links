{
 "cells": [
  {
   "cell_type": "code",
   "execution_count": null,
   "id": "cb93541b-db3c-4046-8c02-839e57e5bd30",
   "metadata": {},
   "outputs": [],
   "source": []
  },
  {
   "cell_type": "code",
   "execution_count": 1,
   "id": "827cdb1a-71e5-43ab-8a9d-6bdad57370e9",
   "metadata": {},
   "outputs": [
    {
     "name": "stdout",
     "output_type": "stream",
     "text": [
      "pandas 1.3.3\n"
     ]
    }
   ],
   "source": [
    "import glob\n",
    "import time\n",
    "from bs4 import BeautifulSoup\n",
    "import pandas\n",
    "print(\"pandas\",pandas.__version__)"
   ]
  },
  {
   "cell_type": "code",
   "execution_count": 2,
   "id": "c339d835-d1cc-410b-a8fe-c37e27fe171c",
   "metadata": {},
   "outputs": [],
   "source": [
    "html_files = glob.glob(\"sample_html_files/*.html\")"
   ]
  },
  {
   "cell_type": "code",
   "execution_count": 3,
   "id": "2848fc14-275d-43a6-b44b-d0e94bcb6e16",
   "metadata": {},
   "outputs": [
    {
     "data": {
      "text/plain": [
       "['sample_html_files/file1.html',\n",
       " 'sample_html_files/file2.html',\n",
       " 'sample_html_files/file3.html',\n",
       " 'sample_html_files/file4.html',\n",
       " 'sample_html_files/file5.html']"
      ]
     },
     "execution_count": 3,
     "metadata": {},
     "output_type": "execute_result"
    }
   ],
   "source": [
    "html_files"
   ]
  },
  {
   "cell_type": "code",
   "execution_count": 4,
   "id": "9302541f-4bef-4bc7-b6cd-7ec14add3b2c",
   "metadata": {},
   "outputs": [],
   "source": [
    "with open(html_files[0], 'r') as file_handle:\n",
    "    file_content = file_handle.read()"
   ]
  },
  {
   "cell_type": "code",
   "execution_count": 14,
   "id": "b1ccaa35-7237-42f8-a561-6e29ac499f60",
   "metadata": {},
   "outputs": [],
   "source": [
    "soup = BeautifulSoup(file_content, 'html.parser')\n",
    "table = soup.table"
   ]
  },
  {
   "cell_type": "code",
   "execution_count": 15,
   "id": "f9b4b7a3-f90e-4397-8f68-526b9b7f5d12",
   "metadata": {},
   "outputs": [
    {
     "data": {
      "text/plain": [
       "<table border=\"1\">\n",
       "<tr>\n",
       "<th>key</th>\n",
       "<th>val</th>\n",
       "</tr><tr>\n",
       "<td>parent</td>\n",
       "<td><a href=\"file3.html\">file3</a></td>\n",
       "</tr><tr>\n",
       "<td>child(ren)</td>\n",
       "<td>None</td>\n",
       "</tr><tr>\n",
       "<td>links</td>\n",
       "<td>\n",
       "<ul>\n",
       "<li>read from/write to <a href=\"file2.html\">file2</a></li>\n",
       "<li>write to <a href=\"file4.html\">file4</a></li>\n",
       "</ul>\n",
       "</td>\n",
       "</tr><tr>\n",
       "</tr></table>"
      ]
     },
     "execution_count": 15,
     "metadata": {},
     "output_type": "execute_result"
    }
   ],
   "source": [
    "table"
   ]
  },
  {
   "cell_type": "code",
   "execution_count": 16,
   "id": "a61043ce-a2b5-4575-8700-a2bef068efb9",
   "metadata": {},
   "outputs": [
    {
     "data": {
      "text/plain": [
       "[          key                                      val\n",
       " 0      parent                                    file3\n",
       " 1  child(ren)                                     None\n",
       " 2       links  read from/write to file2 write to file4\n",
       " 3         NaN                                      NaN]"
      ]
     },
     "execution_count": 16,
     "metadata": {},
     "output_type": "execute_result"
    }
   ],
   "source": [
    "# the pandas read_html saves only plain text (no hyperlinks, no lists)\n",
    "# https://stackoverflow.com/a/56510975/1164295\n",
    "# https://pandas.pydata.org/docs/user_guide/io.html#io-read-html\n",
    "df = pandas.read_html(str(table))\n",
    "df"
   ]
  },
  {
   "cell_type": "code",
   "execution_count": 20,
   "id": "402cbd12-2e7e-483c-b75f-522b08aa1540",
   "metadata": {},
   "outputs": [
    {
     "name": "stdout",
     "output_type": "stream",
     "text": [
      "li= <li>read from/write to <a href=\"file2.html\">file2</a></li>\n",
      "li= <li>write to <a href=\"file4.html\">file4</a></li>\n"
     ]
    }
   ],
   "source": [
    "# modified version of https://stackoverflow.com/a/53775331/1164295\n",
    "\n",
    "column_names = ['key','val']\n",
    "\n",
    "data = []\n",
    "for row in table.find_all('tr'):\n",
    "    row_data = []\n",
    "    for td in row.find_all('td'):\n",
    "        list_check = td.find(\"ul\")\n",
    "        if list_check is not None: # a list is present\n",
    "            for li in td.find_all('li'):\n",
    "                print('li=',li)\n",
    "                link_check = li.find('a')\n",
    "                if link_check is not None:  # there is a hyperlink\n",
    "                    link = li.a['href']\n",
    "        else: # no list\n",
    "            td_check = td.find('a')\n",
    "            if td_check is not None: # there is a hyperlink\n",
    "                link = td.a['href']\n",
    "                row_data.append(link)\n",
    "            else: # no link present\n",
    "                not_link = ''.join(td.stripped_strings)\n",
    "                if not_link == '':\n",
    "                     not_link = None\n",
    "                row_data.append(not_link)\n",
    "\n",
    "    data.append(row_data)\n",
    "df = pandas.DataFrame(data[1:], columns=column_names)\n",
    "df_dict = df.to_dict('records')"
   ]
  },
  {
   "cell_type": "code",
   "execution_count": 19,
   "id": "fc7deb0e-9678-4655-bd35-7709ab6ae0c7",
   "metadata": {},
   "outputs": [
    {
     "data": {
      "text/html": [
       "<div>\n",
       "<style scoped>\n",
       "    .dataframe tbody tr th:only-of-type {\n",
       "        vertical-align: middle;\n",
       "    }\n",
       "\n",
       "    .dataframe tbody tr th {\n",
       "        vertical-align: top;\n",
       "    }\n",
       "\n",
       "    .dataframe thead th {\n",
       "        text-align: right;\n",
       "    }\n",
       "</style>\n",
       "<table border=\"1\" class=\"dataframe\">\n",
       "  <thead>\n",
       "    <tr style=\"text-align: right;\">\n",
       "      <th></th>\n",
       "      <th>key</th>\n",
       "      <th>val</th>\n",
       "    </tr>\n",
       "  </thead>\n",
       "  <tbody>\n",
       "    <tr>\n",
       "      <th>0</th>\n",
       "      <td>parent</td>\n",
       "      <td>file3.html</td>\n",
       "    </tr>\n",
       "    <tr>\n",
       "      <th>1</th>\n",
       "      <td>child(ren)</td>\n",
       "      <td>None</td>\n",
       "    </tr>\n",
       "    <tr>\n",
       "      <th>2</th>\n",
       "      <td>links</td>\n",
       "      <td>file2.html</td>\n",
       "    </tr>\n",
       "    <tr>\n",
       "      <th>3</th>\n",
       "      <td>None</td>\n",
       "      <td>None</td>\n",
       "    </tr>\n",
       "  </tbody>\n",
       "</table>\n",
       "</div>"
      ],
      "text/plain": [
       "          key         val\n",
       "0      parent  file3.html\n",
       "1  child(ren)        None\n",
       "2       links  file2.html\n",
       "3        None        None"
      ]
     },
     "execution_count": 19,
     "metadata": {},
     "output_type": "execute_result"
    }
   ],
   "source": [
    "df"
   ]
  },
  {
   "cell_type": "code",
   "execution_count": null,
   "id": "7c21ac1f-77b9-41f9-a173-10b5c3fca079",
   "metadata": {},
   "outputs": [],
   "source": []
  }
 ],
 "metadata": {
  "kernelspec": {
   "display_name": "Python 3 (ipykernel)",
   "language": "python",
   "name": "python3"
  },
  "language_info": {
   "codemirror_mode": {
    "name": "ipython",
    "version": 3
   },
   "file_extension": ".py",
   "mimetype": "text/x-python",
   "name": "python",
   "nbconvert_exporter": "python",
   "pygments_lexer": "ipython3",
   "version": "3.9.6"
  }
 },
 "nbformat": 4,
 "nbformat_minor": 5
}
