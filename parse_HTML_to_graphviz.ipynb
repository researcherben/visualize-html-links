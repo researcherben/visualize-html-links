{
 "cells": [
  {
   "cell_type": "code",
   "execution_count": null,
   "id": "cb93541b-db3c-4046-8c02-839e57e5bd30",
   "metadata": {},
   "outputs": [],
   "source": [
    "read HTML files that contain links, then produce graphviz file that visualizes relations"
   ]
  },
  {
   "cell_type": "code",
   "execution_count": 1,
   "id": "827cdb1a-71e5-43ab-8a9d-6bdad57370e9",
   "metadata": {},
   "outputs": [
    {
     "name": "stdout",
     "output_type": "stream",
     "text": [
      "pandas 1.3.3\n"
     ]
    }
   ],
   "source": [
    "import glob\n",
    "import time\n",
    "from bs4 import BeautifulSoup\n",
    "import pandas\n",
    "print(\"pandas\",pandas.__version__)"
   ]
  },
  {
   "cell_type": "code",
   "execution_count": 2,
   "id": "c339d835-d1cc-410b-a8fe-c37e27fe171c",
   "metadata": {},
   "outputs": [],
   "source": [
    "html_files = glob.glob(\"sample_html_files/*.html\")"
   ]
  },
  {
   "cell_type": "code",
   "execution_count": 3,
   "id": "2848fc14-275d-43a6-b44b-d0e94bcb6e16",
   "metadata": {},
   "outputs": [
    {
     "data": {
      "text/plain": [
       "['sample_html_files/file1.html',\n",
       " 'sample_html_files/file2.html',\n",
       " 'sample_html_files/file3.html',\n",
       " 'sample_html_files/file4.html',\n",
       " 'sample_html_files/file5.html']"
      ]
     },
     "execution_count": 3,
     "metadata": {},
     "output_type": "execute_result"
    }
   ],
   "source": [
    "html_files"
   ]
  },
  {
   "cell_type": "code",
   "execution_count": 4,
   "id": "9302541f-4bef-4bc7-b6cd-7ec14add3b2c",
   "metadata": {},
   "outputs": [],
   "source": [
    "with open(html_files[0], 'r') as file_handle:\n",
    "    file_content = file_handle.read()"
   ]
  },
  {
   "cell_type": "code",
   "execution_count": 5,
   "id": "b1ccaa35-7237-42f8-a561-6e29ac499f60",
   "metadata": {},
   "outputs": [],
   "source": [
    "soup = BeautifulSoup(file_content, 'html.parser')\n",
    "table = soup.table"
   ]
  },
  {
   "cell_type": "code",
   "execution_count": 6,
   "id": "f9b4b7a3-f90e-4397-8f68-526b9b7f5d12",
   "metadata": {},
   "outputs": [
    {
     "data": {
      "text/plain": [
       "<table border=\"1\">\n",
       "<tr>\n",
       "<th>key</th>\n",
       "<th>val</th>\n",
       "</tr><tr>\n",
       "<td>parent</td>\n",
       "<td><a href=\"file3.html\">file3</a></td>\n",
       "</tr><tr>\n",
       "<td>child(ren)</td>\n",
       "<td>None</td>\n",
       "</tr><tr>\n",
       "<td>links</td>\n",
       "<td>\n",
       "<ul>\n",
       "<li>read from and write to <a href=\"file2.html\">file2</a></li>\n",
       "<li>write to <a href=\"file4.html\">file4</a></li>\n",
       "</ul>\n",
       "</td>\n",
       "</tr>\n",
       "</table>"
      ]
     },
     "execution_count": 6,
     "metadata": {},
     "output_type": "execute_result"
    }
   ],
   "source": [
    "table"
   ]
  },
  {
   "cell_type": "code",
   "execution_count": 7,
   "id": "a61043ce-a2b5-4575-8700-a2bef068efb9",
   "metadata": {},
   "outputs": [
    {
     "data": {
      "text/plain": [
       "[          key                                          val\n",
       " 0      parent                                        file3\n",
       " 1  child(ren)                                         None\n",
       " 2       links  read from and write to file2 write to file4]"
      ]
     },
     "execution_count": 7,
     "metadata": {},
     "output_type": "execute_result"
    }
   ],
   "source": [
    "# the pandas read_html saves only plain text (no hyperlinks, no lists)\n",
    "# https://stackoverflow.com/a/56510975/1164295\n",
    "# https://pandas.pydata.org/docs/user_guide/io.html#io-read-html\n",
    "df = pandas.read_html(str(table))\n",
    "df"
   ]
  },
  {
   "cell_type": "code",
   "execution_count": 13,
   "id": "402cbd12-2e7e-483c-b75f-522b08aa1540",
   "metadata": {},
   "outputs": [
    {
     "name": "stdout",
     "output_type": "stream",
     "text": [
      "\n",
      "cell: 0 <td>links</td>\n",
      "\n",
      "cell: 1 <td>\n",
      "<ul>\n",
      "<li>read from and write to <a href=\"file2.html\">file2</a></li>\n",
      "<li>write to <a href=\"file4.html\">file4</a></li>\n",
      "</ul>\n",
      "</td>\n"
     ]
    }
   ],
   "source": [
    "\n",
    "data = []\n",
    "for row in table.find_all('tr'):\n",
    "    if row.find_all('ul'): #if the value contains a list\n",
    "        for column_index, cell in enumerate(row.find_all('td')):\n",
    "            print(\"\\ncell:\",column_index,cell)\n",
    "    elif row.find_all('a'): #elif the value contains a hyperlink\n",
    "        pass\n",
    "    else: # the value is a string\n",
    "        pass\n"
   ]
  },
  {
   "cell_type": "raw",
   "id": "16f10c9c-84c6-45d7-aed5-072f9a67768d",
   "metadata": {},
   "source": [
    "# modified version of https://stackoverflow.com/a/53775331/1164295\n",
    "\n",
    "\n",
    "data = []\n",
    "for row in table.find_all('tr'):\n",
    "    print(\"\\nrow=\",row)\n",
    "    for column_index,td in enumerate(row.find_all('td')):\n",
    "        print(\"index=\",column_index)\n",
    "        list_check = td.find(\"ul\")\n",
    "        if list_check is not None: # a list is present\n",
    "            for li in td.find_all('li'):\n",
    "                print('li=',li)\n",
    "                row_data = {}\n",
    "                link_check = li.find('a')\n",
    "                if link_check is not None:  # there is a hyperlink\n",
    "                    link = li.a['href']\n",
    "                    print(\"link: \", link)\n",
    "        else: # no list\n",
    "            row_data = {}\n",
    "            td_check = td.find('a')\n",
    "            if td_check is not None: # there is a hyperlink\n",
    "                link = td.a['href']\n",
    "                row_data.append(link)\n",
    "            else: # no link present\n",
    "                print(\"td=\",td.stripped_strings)\n",
    "                not_link = ''.join(td.stripped_strings)\n",
    "                if not_link == '':\n",
    "                     not_link = None\n",
    "                row_data.append(not_link)\n",
    "\n",
    "    try:\n",
    "        data.append(row_data)\n",
    "    except NameError:\n",
    "        print(\" --> nothing to append\")\n",
    "df = pandas.DataFrame(data)\n",
    "df_dict = df.to_dict('records')"
   ]
  },
  {
   "cell_type": "raw",
   "id": "5e98a9d1-2b75-46cb-8382-74715f5619f5",
   "metadata": {},
   "source": [
    "df"
   ]
  },
  {
   "cell_type": "code",
   "execution_count": null,
   "id": "7c21ac1f-77b9-41f9-a173-10b5c3fca079",
   "metadata": {},
   "outputs": [],
   "source": []
  }
 ],
 "metadata": {
  "kernelspec": {
   "display_name": "Python 3 (ipykernel)",
   "language": "python",
   "name": "python3"
  },
  "language_info": {
   "codemirror_mode": {
    "name": "ipython",
    "version": 3
   },
   "file_extension": ".py",
   "mimetype": "text/x-python",
   "name": "python",
   "nbconvert_exporter": "python",
   "pygments_lexer": "ipython3",
   "version": "3.9.6"
  }
 },
 "nbformat": 4,
 "nbformat_minor": 5
}
